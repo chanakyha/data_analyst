{
 "cells": [
  {
   "cell_type": "code",
   "execution_count": 2,
   "metadata": {},
   "outputs": [],
   "source": [
    "import requests\n",
    "from bs4 import BeautifulSoup\n",
    "import pandas as pd"
   ]
  },
  {
   "cell_type": "code",
   "execution_count": 3,
   "metadata": {},
   "outputs": [],
   "source": [
    "base_url = \"https://results.eci.gov.in/PcResultGenJune2024/\"\n",
    "\n",
    "main_url = base_url + \"index.htm\""
   ]
  },
  {
   "cell_type": "code",
   "execution_count": 4,
   "metadata": {},
   "outputs": [],
   "source": [
    "response = requests.get(main_url)\n",
    "response.encoding = 'utf-8'\n",
    "\n",
    "soup = BeautifulSoup(response.text, 'html.parser')"
   ]
  },
  {
   "cell_type": "code",
   "execution_count": 5,
   "metadata": {},
   "outputs": [],
   "source": [
    "main_data = []\n",
    "states_select = soup.find('select')  \n",
    "\n",
    "data_frames = {}\n",
    "for state in states_select:\n",
    "    if (str(state).replace('<option value=\"', \"\").split('\"')[0]).strip() == \"\":\n",
    "        continue\n",
    "\n",
    "    url_state_code = \"partywiseresult-{}.htm\".format((str(state).replace('<option value=\"', \"\").split('\"')[0]))\n",
    "    state_name = (str(state).split('>')[1].split('<')[0])\n",
    "    state_url = base_url + url_state_code\n",
    "\n",
    "\n",
    "    state_response = requests.get(state_url)\n",
    "    state_response.encoding = 'utf-8'\n",
    "    state_soup = BeautifulSoup(state_response.text, 'html.parser')\n",
    "    state_table = state_soup.find(\"table\")\n",
    "\n",
    "    if state_table is None:\n",
    "        continue\n",
    "\n",
    "    state_data = []\n",
    "    for row in state_table.find_all('tr'):\n",
    "        links = state_soup.find_all('a', href=True)\n",
    "\n",
    "\n",
    "        cols = [cell.text.strip() for cell in row.find_all(['td', 'th'])]\n",
    "        if cols[0] in [\"Total\", \"Party\"]:\n",
    "            continue\n",
    "        del cols[2:4]\n",
    "\n",
    "        for i, link in enumerate(links):\n",
    "            if (str(link).split('href')[1].split('>')[0][2:-1].split('-')[0] == 'partywisewinresult'):\n",
    "                constituency_url =  base_url + (str(link).split('\"')[1])\n",
    "\n",
    "\n",
    "                constituency_response = requests.get(constituency_url)\n",
    "                constituency_response.encoding = 'utf-8'\n",
    "                constituency_soup = BeautifulSoup(constituency_response.text, 'html.parser')\n",
    "\n",
    "                for cons_row in constituency_soup.find_all('tr'):\n",
    "                    cons_cols = [cons_cell.text.strip() for cons_cell in cons_row.find_all(['td'])]\n",
    "                    if cons_cols == []: continue\n",
    "                    main_data.append(cols + cons_cols[1:] + [state_name])\n",
    "                    \n",
    "        state_data.append(cols)\n"
   ]
  },
  {
   "cell_type": "code",
   "execution_count": 6,
   "metadata": {},
   "outputs": [],
   "source": [
    "header = ['Party Name', 'Total Winning', 'Constituency', 'Winning Candidate', 'Total Votes', 'Margin', 'State']\n",
    "\n",
    "linked_df = pd.DataFrame(main_data)\n",
    "\n",
    "linked_df.to_csv('scrapped-results.csv', header=header)"
   ]
  }
 ],
 "metadata": {
  "kernelspec": {
   "display_name": "Python 3",
   "language": "python",
   "name": "python3"
  },
  "language_info": {
   "codemirror_mode": {
    "name": "ipython",
    "version": 3
   },
   "file_extension": ".py",
   "mimetype": "text/x-python",
   "name": "python",
   "nbconvert_exporter": "python",
   "pygments_lexer": "ipython3",
   "version": "3.11.5"
  }
 },
 "nbformat": 4,
 "nbformat_minor": 2
}
